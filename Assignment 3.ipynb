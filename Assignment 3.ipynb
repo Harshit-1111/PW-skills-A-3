{
 "cells": [
  {
   "cell_type": "code",
   "execution_count": 1,
   "id": "1d42d781-7070-406d-931a-e8c7e3c1a59d",
   "metadata": {},
   "outputs": [],
   "source": [
    "'''Q1. Which keyword is used to create a function? Create a function to return a list of odd numbers in the\n",
    "range of 1 to 25.'''\n",
    "\n",
    "#def keyword is used to create a function.\n",
    "\n",
    "def odd_num():\n",
    "    l = []\n",
    "    for i in range(1,26):\n",
    "        if i%2 !=0:\n",
    "            l.append(i)\n",
    "    return l"
   ]
  },
  {
   "cell_type": "code",
   "execution_count": 2,
   "id": "734c04a2-8704-4d3e-867c-3bdecea83284",
   "metadata": {},
   "outputs": [
    {
     "data": {
      "text/plain": [
       "[1, 3, 5, 7, 9, 11, 13, 15, 17, 19, 21, 23, 25]"
      ]
     },
     "execution_count": 2,
     "metadata": {},
     "output_type": "execute_result"
    }
   ],
   "source": [
    "odd_num()"
   ]
  },
  {
   "cell_type": "code",
   "execution_count": null,
   "id": "52162edd-b103-4c86-af72-9b591c6bfd1a",
   "metadata": {},
   "outputs": [],
   "source": [
    "'''Why *args and **kwargs is used in some functions? Create a function each for *args and **kwargs\n",
    "to demonstrate their use.'''\n",
    "\n",
    "\n",
    "*args allows you to pass a variable number of non-keyword arguments (i.e., positional arguments) to a function.\n",
    "It collects these arguments into a tuple, which can be used within the function.\n",
    "This is helpful when you don't know in advance how many arguments will be passed to the function.\n",
    "\n",
    "\n",
    "**kwargs allows you to pass a variable number of keyword arguments (i.e., named arguments) to a function.\n",
    "It collects these arguments into a dictionary, where the keys are the argument names and the values are the corresponding values.\n",
    "This is helpful when you want to provide optional named parameters to a function."
   ]
  },
  {
   "cell_type": "code",
   "execution_count": 3,
   "id": "cf9f3a03-07fb-43b0-be2d-9d8db80dc4d8",
   "metadata": {},
   "outputs": [],
   "source": [
    "def sum(*args):\n",
    "    a = 0\n",
    "    for i in args:\n",
    "        a += i\n",
    "    return a"
   ]
  },
  {
   "cell_type": "code",
   "execution_count": 4,
   "id": "988ddfcb-7a15-42be-ad67-04cc1efe840e",
   "metadata": {},
   "outputs": [
    {
     "name": "stdout",
     "output_type": "stream",
     "text": [
      "21\n"
     ]
    }
   ],
   "source": [
    "print(sum(1,2,3,4,5,6))"
   ]
  },
  {
   "cell_type": "code",
   "execution_count": 5,
   "id": "c252349f-07a4-4547-be4d-17a21423397d",
   "metadata": {},
   "outputs": [],
   "source": [
    "def test(**kwargs):\n",
    "    return kwargs"
   ]
  },
  {
   "cell_type": "code",
   "execution_count": 6,
   "id": "34817f50-61cb-4f90-b833-c89742337bd7",
   "metadata": {},
   "outputs": [
    {
     "data": {
      "text/plain": [
       "{'a': 'harshit', 'b': 'DS course'}"
      ]
     },
     "execution_count": 6,
     "metadata": {},
     "output_type": "execute_result"
    }
   ],
   "source": [
    "test(a = \"harshit\", b= \"DS course\")"
   ]
  },
  {
   "cell_type": "code",
   "execution_count": null,
   "id": "194c4e50-7753-43c2-8ba0-66180fd60276",
   "metadata": {},
   "outputs": [],
   "source": [
    "'''What is an iterator in python? Name the method used to initialise the iterator object and the method\n",
    "used for iteration. Use these methods to print the first five elements of the given list [2, 4, 6, 8, 10, 12, 14,\n",
    "16, 18, 20].'''\n",
    "\n",
    "an iterator is an object that allows you to traverse a container or sequence (such as a list, tuple, dictionary, or custom object) \n",
    "and access its elements one at a time.\n",
    "\n",
    "we can create an iterable by implementing the iter()\n",
    "\n",
    "To create an iterator, you call the iter() function on the iterable object. This function returns an iterator object.\n",
    "Iterate through the elements: we can use a for loop or the next() function to traverse through the elements of the iterator one at a time."
   ]
  },
  {
   "cell_type": "code",
   "execution_count": 7,
   "id": "6bdccb35-9bb9-4b33-b01a-2c02a366305c",
   "metadata": {},
   "outputs": [],
   "source": [
    "l = [2, 4, 6, 8, 10, 12, 14, 16, 18, 20]\n"
   ]
  },
  {
   "cell_type": "code",
   "execution_count": 8,
   "id": "400ee382-edc6-4b91-9d7c-b09c4b44e532",
   "metadata": {},
   "outputs": [],
   "source": [
    "def first_five():\n",
    "    count = 0\n",
    "    for i in l:\n",
    "        if count<5:\n",
    "            count = count+1\n",
    "            yield i\n",
    "        "
   ]
  },
  {
   "cell_type": "code",
   "execution_count": 9,
   "id": "bdfa26c1-e1b4-4356-bfc4-a118d9ef2d8f",
   "metadata": {},
   "outputs": [
    {
     "data": {
      "text/plain": [
       "<generator object first_five at 0x7f0fc1441a80>"
      ]
     },
     "execution_count": 9,
     "metadata": {},
     "output_type": "execute_result"
    }
   ],
   "source": [
    "first_five()"
   ]
  },
  {
   "cell_type": "code",
   "execution_count": 10,
   "id": "a8cf590c-6f39-4379-9a00-cef5fba944f0",
   "metadata": {},
   "outputs": [],
   "source": [
    "p = list(first_five())"
   ]
  },
  {
   "cell_type": "code",
   "execution_count": 11,
   "id": "f3d4e86c-4174-42ed-b248-55914a4c583c",
   "metadata": {},
   "outputs": [
    {
     "data": {
      "text/plain": [
       "[2, 4, 6, 8, 10]"
      ]
     },
     "execution_count": 11,
     "metadata": {},
     "output_type": "execute_result"
    }
   ],
   "source": [
    "p"
   ]
  },
  {
   "cell_type": "code",
   "execution_count": null,
   "id": "a41d486f-3697-4b59-ac41-935bcf56e710",
   "metadata": {},
   "outputs": [],
   "source": [
    "'''What is a generator function in python? Why yield keyword is used? Give an example of a generator\n",
    "function.'''\n",
    "\n",
    "A generator function in Python is a special type of function that allows you to create an iterator. \n",
    "Unlike regular functions that use the return keyword to return a value and terminate the function, \n",
    "generator functions use the yield keyword to yield a value and temporarily pause the function's execution\n"
   ]
  },
  {
   "cell_type": "code",
   "execution_count": 12,
   "id": "78d9224b-6e76-4fc5-b89d-73d1e2711461",
   "metadata": {},
   "outputs": [],
   "source": [
    "def test_fib(n):\n",
    "    a,b = 0,1\n",
    "    for i in range (n):\n",
    "        yield a\n",
    "        a,b = b,a+b"
   ]
  },
  {
   "cell_type": "code",
   "execution_count": 13,
   "id": "d5e4d446-5792-42ef-86bb-23de67a44823",
   "metadata": {},
   "outputs": [],
   "source": [
    "p = list(test_fib(20))"
   ]
  },
  {
   "cell_type": "code",
   "execution_count": 14,
   "id": "919ac227-9d03-45aa-a0ae-f2454acfeb93",
   "metadata": {},
   "outputs": [
    {
     "data": {
      "text/plain": [
       "[0,\n",
       " 1,\n",
       " 1,\n",
       " 2,\n",
       " 3,\n",
       " 5,\n",
       " 8,\n",
       " 13,\n",
       " 21,\n",
       " 34,\n",
       " 55,\n",
       " 89,\n",
       " 144,\n",
       " 233,\n",
       " 377,\n",
       " 610,\n",
       " 987,\n",
       " 1597,\n",
       " 2584,\n",
       " 4181]"
      ]
     },
     "execution_count": 14,
     "metadata": {},
     "output_type": "execute_result"
    }
   ],
   "source": [
    "p"
   ]
  },
  {
   "cell_type": "code",
   "execution_count": 15,
   "id": "7aa32546-1b94-4a3f-9fc7-a285c5224dee",
   "metadata": {},
   "outputs": [],
   "source": [
    "'''Q5. Create a generator function for prime numbers less than 1000. Use the next() method to print the\n",
    "first 20 prime numbers.'''\n",
    "\n",
    "def is_prime(n):\n",
    "    if n <= 1:\n",
    "        return False\n",
    "    if n <= 3:\n",
    "        return True\n",
    "    if n % 2 == 0 or n % 3 == 0:\n",
    "        return False\n",
    "    i = 5\n",
    "    while i * i <= n:\n",
    "        if n % i == 0 or n % (i + 2) == 0:\n",
    "            return False\n",
    "        i += 6\n",
    "    return True"
   ]
  },
  {
   "cell_type": "code",
   "execution_count": 16,
   "id": "0666de56-6ceb-4cff-bc65-75b46f31d382",
   "metadata": {},
   "outputs": [],
   "source": [
    "def prime_generator():\n",
    "    num = 2\n",
    "    count = 0\n",
    "    while count < 20: \n",
    "        if is_prime(num):\n",
    "            yield num\n",
    "            count += 1\n",
    "        num += 1"
   ]
  },
  {
   "cell_type": "code",
   "execution_count": 17,
   "id": "aa3b11c0-87e1-427c-9ea8-1a4b9abb4986",
   "metadata": {},
   "outputs": [],
   "source": [
    "prime_gen = prime_generator()"
   ]
  },
  {
   "cell_type": "code",
   "execution_count": 18,
   "id": "013aea85-b19e-44aa-ab29-0fbd0c9591da",
   "metadata": {},
   "outputs": [
    {
     "data": {
      "text/plain": [
       "<generator object prime_generator at 0x7f0fc1441f50>"
      ]
     },
     "execution_count": 18,
     "metadata": {},
     "output_type": "execute_result"
    }
   ],
   "source": [
    "prime_gen"
   ]
  },
  {
   "cell_type": "code",
   "execution_count": 19,
   "id": "59bbfc3e-a07a-418d-8556-1d2f2e4c8873",
   "metadata": {},
   "outputs": [
    {
     "data": {
      "text/plain": [
       "<generator object prime_generator at 0x7f0fc14420a0>"
      ]
     },
     "execution_count": 19,
     "metadata": {},
     "output_type": "execute_result"
    }
   ],
   "source": [
    " prime_generator()"
   ]
  },
  {
   "cell_type": "code",
   "execution_count": 21,
   "id": "430332d4-329c-460c-bd7c-3a6106b2cd0d",
   "metadata": {},
   "outputs": [
    {
     "data": {
      "text/plain": [
       "True"
      ]
     },
     "execution_count": 21,
     "metadata": {},
     "output_type": "execute_result"
    }
   ],
   "source": [
    "is_prime(3)"
   ]
  },
  {
   "cell_type": "code",
   "execution_count": 22,
   "id": "908362f3-a11e-4cad-8cf7-cfb66fadf4b9",
   "metadata": {},
   "outputs": [
    {
     "name": "stdout",
     "output_type": "stream",
     "text": [
      "2\n",
      "3\n",
      "5\n",
      "7\n",
      "11\n",
      "13\n",
      "17\n",
      "19\n",
      "23\n",
      "29\n",
      "31\n",
      "37\n",
      "41\n",
      "43\n",
      "47\n",
      "53\n",
      "59\n",
      "61\n",
      "67\n",
      "71\n"
     ]
    }
   ],
   "source": [
    "for i in range(20):\n",
    "    print(next(prime_gen))"
   ]
  },
  {
   "cell_type": "code",
   "execution_count": 23,
   "id": "efcbbccb-4866-4c51-9813-b2a7a2d5e49d",
   "metadata": {},
   "outputs": [],
   "source": [
    "'''Write a python program to print the first 10 Fibonacci numbers using a while loop.'''\n",
    "\n",
    "def fib_num(n):\n",
    "    a,b = 0,1\n",
    "    while True:\n",
    "        yield a\n",
    "        a,b = b,a+b"
   ]
  },
  {
   "cell_type": "code",
   "execution_count": 24,
   "id": "ac4a6114-2514-4f4a-aa37-91029ab4fac0",
   "metadata": {},
   "outputs": [
    {
     "data": {
      "text/plain": [
       "<generator object fib_num at 0x7f0fc1442420>"
      ]
     },
     "execution_count": 24,
     "metadata": {},
     "output_type": "execute_result"
    }
   ],
   "source": [
    "fib_num(10)"
   ]
  },
  {
   "cell_type": "code",
   "execution_count": 25,
   "id": "a9ff0286-f781-479e-a8a6-7b1f3fd3cbc3",
   "metadata": {},
   "outputs": [],
   "source": [
    "p = fib_num(10)"
   ]
  },
  {
   "cell_type": "code",
   "execution_count": 26,
   "id": "f793d8bc-0d52-4e43-9731-c0f6d3fa819a",
   "metadata": {},
   "outputs": [
    {
     "data": {
      "text/plain": [
       "<generator object fib_num at 0x7f0fc1442500>"
      ]
     },
     "execution_count": 26,
     "metadata": {},
     "output_type": "execute_result"
    }
   ],
   "source": [
    "p"
   ]
  },
  {
   "cell_type": "code",
   "execution_count": 28,
   "id": "08efee62-5a0a-41fa-9e67-91247dcaf8f7",
   "metadata": {},
   "outputs": [
    {
     "name": "stdout",
     "output_type": "stream",
     "text": [
      "0\n",
      "1\n",
      "1\n",
      "2\n",
      "3\n",
      "5\n",
      "8\n",
      "13\n",
      "21\n",
      "34\n"
     ]
    }
   ],
   "source": [
    "for i in range(10):\n",
    "    print(next(p))"
   ]
  },
  {
   "cell_type": "code",
   "execution_count": 52,
   "id": "1eac08b0-c48b-4690-89f8-4e8b7ada1c9e",
   "metadata": {},
   "outputs": [
    {
     "name": "stdout",
     "output_type": "stream",
     "text": [
      "['p', 'w', 's', 'k', 'i', 'l', 'l', 's', \"'\"]\n"
     ]
    }
   ],
   "source": [
    "'''Write a List Comprehension to iterate through the given string: ‘pwskills’.\n",
    "Expected output: ['p', 'w', 's', 'k', 'i', 'l', 'l', 's']'''\n",
    "\n",
    "a = \"pwskills'\"\n",
    "result = [char for char in a]\n",
    "print(result)\n"
   ]
  },
  {
   "cell_type": "code",
   "execution_count": 60,
   "id": "1c521e8a-5b71-4ec2-94e4-143d2e19acb8",
   "metadata": {},
   "outputs": [
    {
     "name": "stdin",
     "output_type": "stream",
     "text": [
      "Enter the number :  231\n"
     ]
    },
    {
     "name": "stdout",
     "output_type": "stream",
     "text": [
      "Not a palindrome!\n"
     ]
    }
   ],
   "source": [
    "#Write a python program to check whether a given number is Palindrome or not using a while loop.\n",
    "\n",
    "num = int(input(\"Enter the number : \"))\n",
    "temp = num\n",
    "rev = 0\n",
    "while (num>0):\n",
    "    dig = num%10\n",
    "    rev = rev*10+dig\n",
    "    num = num//10\n",
    "if(temp==rev):\n",
    "    print(\"The {0} number is palindrome!\".format(temp))\n",
    "else:\n",
    "    print(\"Not a palindrome!\")\n",
    "          \n",
    "\n",
    "         "
   ]
  },
  {
   "cell_type": "code",
   "execution_count": 90,
   "id": "3d36c28d-80c8-4675-a9c6-f72cfbebac46",
   "metadata": {},
   "outputs": [],
   "source": [
    "#Write a code to print odd numbers from 1 to 100 using list comprehension.\n",
    "\n",
    "odd_numbers = [x for x in range(1, 101) if x % 2 != 0]"
   ]
  },
  {
   "cell_type": "code",
   "execution_count": 91,
   "id": "de44f1a7-bdf3-4208-b7af-5ec0f03da201",
   "metadata": {},
   "outputs": [
    {
     "name": "stdout",
     "output_type": "stream",
     "text": [
      "[1, 3, 5, 7, 9, 11, 13, 15, 17, 19, 21, 23, 25, 27, 29, 31, 33, 35, 37, 39, 41, 43, 45, 47, 49, 51, 53, 55, 57, 59, 61, 63, 65, 67, 69, 71, 73, 75, 77, 79, 81, 83, 85, 87, 89, 91, 93, 95, 97, 99]\n"
     ]
    }
   ],
   "source": [
    "print(odd_numbers)"
   ]
  },
  {
   "cell_type": "code",
   "execution_count": null,
   "id": "bdeb0a6b-298d-444b-9b07-ef769f5f9cd7",
   "metadata": {},
   "outputs": [],
   "source": []
  },
  {
   "cell_type": "code",
   "execution_count": null,
   "id": "e97e0e93-b479-422f-9202-bfe1cebc7de5",
   "metadata": {},
   "outputs": [],
   "source": []
  },
  {
   "cell_type": "code",
   "execution_count": null,
   "id": "40b3f92f-1a2e-4d78-8622-16084f0663e3",
   "metadata": {},
   "outputs": [],
   "source": []
  }
 ],
 "metadata": {
  "kernelspec": {
   "display_name": "Python 3 (ipykernel)",
   "language": "python",
   "name": "python3"
  },
  "language_info": {
   "codemirror_mode": {
    "name": "ipython",
    "version": 3
   },
   "file_extension": ".py",
   "mimetype": "text/x-python",
   "name": "python",
   "nbconvert_exporter": "python",
   "pygments_lexer": "ipython3",
   "version": "3.10.8"
  }
 },
 "nbformat": 4,
 "nbformat_minor": 5
}
